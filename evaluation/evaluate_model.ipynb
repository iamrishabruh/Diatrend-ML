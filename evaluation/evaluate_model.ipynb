{
 "cells": [
  {
   "cell_type": "code",
   "execution_count": null,
   "metadata": {},
   "outputs": [],
   "source": [
    "import torch\n",
    "from evaluation.evaluation import load_model, evaluate_model\n",
    "from config.config import Config"
   ]
  },
  {
   "cell_type": "code",
   "execution_count": null,
   "metadata": {},
   "outputs": [],
   "source": [
    "X_test = torch.randn(50, Config.NUM_FEATURES)\n",
    "y_test = torch.randint(0, Config.NUM_CLASSES, (50,))"
   ]
  },
  {
   "cell_type": "code",
   "execution_count": null,
   "metadata": {},
   "outputs": [],
   "source": [
    "model = load_model(str(Config.CHECKPOINT_PATHS[\"TabTransformer\"]))\n",
    "accuracy = evaluate_model(model, X_test, y_test)\n",
    "print(f\"Test Accuracy: {accuracy:.4f}\")"
   ]
  }
 ],
 "metadata": {
  "language_info": {
   "name": "python"
  }
 },
 "nbformat": 4,
 "nbformat_minor": 2
}
