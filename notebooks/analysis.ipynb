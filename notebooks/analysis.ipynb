{
 "cells": [
  {
   "cell_type": "code",
   "execution_count": null,
   "metadata": {},
   "outputs": [],
   "source": [
    "import pandas as pd\n",
    "import numpy as np\n",
    "import matplotlib.pyplot as plt\n",
    "import plotly.express as px\n",
    "from preprocessing.preprocessing import DataProcessor\n",
    "from utils.visualization import plot_glucose_series, plot_feature_distribution\n",
    "from config.config import Config\n"
   ]
  },
  {
   "cell_type": "code",
   "execution_count": null,
   "metadata": {},
   "outputs": [],
   "source": [
    "processor = DataProcessor()\n",
    "demo_df = processor._load_demographics()\n",
    "sample_file = list(Config.RAW_DATA.glob(\"Subject*.xlsx\"))[0]\n",
    "features, label = processor.process_file(sample_file, demo_df)\n",
    "print(\"Extracted Features:\", features)\n",
    "print(\"Label:\", label)"
   ]
  },
  {
   "cell_type": "code",
   "execution_count": null,
   "metadata": {},
   "outputs": [],
   "source": [
    "cgm_df = pd.read_excel(sample_file, sheet_name=\"CGM\")\n",
    "fig = plot_glucose_series(cgm_df['mg/dl'], title=\"Sample CGM Glucose Levels\")\n",
    "fig.show()"
   ]
  },
  {
   "cell_type": "code",
   "execution_count": null,
   "metadata": {},
   "outputs": [],
   "source": [
    "feature_names = [\"CGM Mean\", \"CGM Std\", \"Glycemic Variability\", \"Age\", \"HbA1C\"]\n",
    "feature_dict = dict(zip(feature_names, features))\n",
    "fig2 = plot_feature_distribution(feature_dict, title=\"Extracted Features\")\n",
    "fig2.show()"
   ]
  },
  {
   "cell_type": "code",
   "execution_count": null,
   "metadata": {},
   "outputs": [],
   "source": [
    "import torch\n",
    "from models.tabtransformer import TabTransformer\n",
    "\n",
    "model = TabTransformer(\n",
    "    num_features=Config.NUM_FEATURES,\n",
    "    num_classes=Config.NUM_CLASSES,\n",
    "    dim=Config.TRANSFORMER_DIM,\n",
    "    depth=Config.TRANSFORMER_DEPTH,\n",
    "    heads=Config.TRANSFORMER_HEADS\n",
    ")\n",
    "checkpoint = Config.CHECKPOINTS / \"TabTransformer_best.pt\"\n",
    "model.load_state_dict(torch.load(checkpoint, map_location=Config.DEVICE))\n",
    "model.to(Config.DEVICE)\n",
    "model.eval()\n",
    "\n",
    "tensor = torch.tensor([features], dtype=torch.float32).to(Config.DEVICE)\n",
    "with torch.no_grad():\n",
    "    output = model(tensor)\n",
    "prediction = int(output.argmax().item())\n",
    "print(\"Model Prediction:\", prediction)"
   ]
  }
 ],
 "metadata": {
  "language_info": {
   "name": "python"
  }
 },
 "nbformat": 4,
 "nbformat_minor": 2
}
